{
  "nbformat": 4,
  "nbformat_minor": 0,
  "metadata": {
    "colab": {
      "name": "Resnet_kaggle_cleaned.ipynb",
      "version": "0.3.2",
      "provenance": [],
      "collapsed_sections": []
    },
    "kernelspec": {
      "name": "python3",
      "display_name": "Python 3"
    },
    "accelerator": "GPU"
  },
  "cells": [
    {
      "cell_type": "code",
      "metadata": {
        "id": "3DjWtYVrb-WW",
        "colab_type": "code",
        "outputId": "e5ece951-0ac7-4206-ef3d-80514b3db76a",
        "colab": {
          "base_uri": "https://localhost:8080/",
          "height": 308
        }
      },
      "source": [
        "import torch\n",
        "import torchvision\n",
        "import os\n",
        "import shutil\n",
        "import time\n",
        "import copy\n",
        "import random\n",
        "import numpy as np\n",
        "import pandas as pd\n",
        "import matplotlib.pyplot as plt\n",
        "\n",
        "from torchvision import transforms, models\n",
        "from tqdm import tqdm\n",
        "from google.colab import drive\n",
        "\n",
        "#drive.mount('/content/drive', force_remount=True)\n",
        "\n",
        "device = torch.device(\"cuda:0\" if torch.cuda.is_available() else \"cpu\")\n",
        "\n",
        "!nvidia-smi"
      ],
      "execution_count": 0,
      "outputs": [
        {
          "output_type": "stream",
          "text": [
            "Tue Sep 17 11:06:42 2019       \n",
            "+-----------------------------------------------------------------------------+\n",
            "| NVIDIA-SMI 430.40       Driver Version: 418.67       CUDA Version: 10.1     |\n",
            "|-------------------------------+----------------------+----------------------+\n",
            "| GPU  Name        Persistence-M| Bus-Id        Disp.A | Volatile Uncorr. ECC |\n",
            "| Fan  Temp  Perf  Pwr:Usage/Cap|         Memory-Usage | GPU-Util  Compute M. |\n",
            "|===============================+======================+======================|\n",
            "|   0  Tesla K80           Off  | 00000000:00:04.0 Off |                    0 |\n",
            "| N/A   73C    P0    75W / 149W |    927MiB / 11441MiB |      0%      Default |\n",
            "+-------------------------------+----------------------+----------------------+\n",
            "                                                                               \n",
            "+-----------------------------------------------------------------------------+\n",
            "| Processes:                                                       GPU Memory |\n",
            "|  GPU       PID   Type   Process name                             Usage      |\n",
            "|=============================================================================|\n",
            "+-----------------------------------------------------------------------------+\n"
          ],
          "name": "stdout"
        }
      ]
    },
    {
      "cell_type": "code",
      "metadata": {
        "id": "feP_dA-lbusm",
        "colab_type": "code",
        "colab": {}
      },
      "source": [
        "# unzip datasets and move to the notebook\n",
        "#!unzip '../content/drive/My Drive/datasets/plates.zip'\n",
        "#print(os.listdir(data_root))"
      ],
      "execution_count": 0,
      "outputs": []
    },
    {
      "cell_type": "code",
      "metadata": {
        "id": "uoOBa11ajPn2",
        "colab_type": "code",
        "colab": {}
      },
      "source": [
        "# freeze random, set cuda to deterministic mode\n",
        "def set_random_seed(val):\n",
        "  random.seed(val)\n",
        "  np.random.seed(val)\n",
        "  torch.manual_seed(val)\n",
        "  torch.cuda.manual_seed(val)\n",
        "  torch.backends.cudnn.deterministic = True\n",
        "\n",
        "set_random_seed(1)"
      ],
      "execution_count": 0,
      "outputs": []
    },
    {
      "cell_type": "code",
      "metadata": {
        "id": "Er1tAy2blI4-",
        "colab_type": "code",
        "outputId": "2b11a3f6-3683-46d5-ff20-ad70e16571d2",
        "colab": {
          "base_uri": "https://localhost:8080/",
          "height": 35
        }
      },
      "source": [
        "data_root = '../content/plates/'\n",
        "!ls plates/train"
      ],
      "execution_count": 0,
      "outputs": [
        {
          "output_type": "stream",
          "text": [
            "cleaned  dirty\n"
          ],
          "name": "stdout"
        }
      ]
    },
    {
      "cell_type": "code",
      "metadata": {
        "id": "5QQRutZVjyLD",
        "colab_type": "code",
        "outputId": "0ee94c55-0816-4bfc-bf64-8b8c94fff236",
        "colab": {
          "base_uri": "https://localhost:8080/",
          "height": 35
        }
      },
      "source": [
        "train_dir = 'plates/train'\n",
        "\n",
        "train_transforms = transforms.Compose([\n",
        "    transforms.CenterCrop(224),\n",
        "    transforms.RandomHorizontalFlip(),\n",
        "    transforms.ColorJitter(1.0, 0.3, 0.3, 0.5),\n",
        "    transforms.ToTensor(),\n",
        "    transforms.Normalize([0.485, 0.456, 0.406], [0.229, 0.224, 0.225])\n",
        "])\n",
        "\n",
        "train_dataset = torchvision.datasets.ImageFolder(train_dir, train_transforms)\n",
        "\n",
        "batch_size = 10\n",
        "train_dataloader = torch.utils.data.DataLoader(\n",
        "    train_dataset, batch_size=batch_size, shuffle=True, num_workers=batch_size)\n",
        "\n",
        "info_data = 'train data [batches: {0} , files: {1}]'.format(len(train_dataloader),len(train_dataset))\n",
        "print(info_data)"
      ],
      "execution_count": 0,
      "outputs": [
        {
          "output_type": "stream",
          "text": [
            "train data [batches: 4 , files: 40]\n"
          ],
          "name": "stdout"
        }
      ]
    },
    {
      "cell_type": "code",
      "metadata": {
        "id": "qn5vQpL8mSJm",
        "colab_type": "code",
        "colab": {}
      },
      "source": [
        "# show input batch from dataloader\n",
        "class_names = ['cleaned', 'dirty']\n",
        "mean = np.array([0.485, 0.456, 0.406])\n",
        "std = np.array([0.229, 0.224, 0.225]) \n",
        "\n",
        "def show_input(input_tensor, title=''):\n",
        "    image = input_tensor.permute(1, 2, 0).numpy()\n",
        "    image = std * image + mean\n",
        "    plt.imshow(image.clip(0, 1))\n",
        "    plt.title(title)\n",
        "    plt.show()\n",
        "    plt.pause(0.001)\n",
        "    \n",
        "#X_batch, y_batch = next(iter(train_dataloader))\n",
        "\n",
        "# for x_item, y_item in zip(X_batch, y_batch):\n",
        "#     show_input(x_item, title=class_names[y_item])    "
      ],
      "execution_count": 0,
      "outputs": []
    },
    {
      "cell_type": "code",
      "metadata": {
        "id": "DJBCRI8dmx-C",
        "colab_type": "code",
        "colab": {}
      },
      "source": [
        "def train_model(model, loss, optimizer, scheduler, num_epochs):\n",
        "    \n",
        "    model.train() # set model to train mode\n",
        "    \n",
        "    train_history_loss = []\n",
        "    train_history_acc = []\n",
        "    \n",
        "    for epoch in range(num_epochs):\n",
        "      \n",
        "        print('Epoch {}/{}:'.format(epoch, num_epochs - 1), flush=True)\n",
        "        \n",
        "        # after each epoch reduce step of gradient descent\n",
        "        scheduler.step()\n",
        "        \n",
        "        running_loss = 0.\n",
        "        running_acc = 0.\n",
        "        \n",
        "        # interate over data\n",
        "        for inputs, labels in tqdm(train_dataloader):\n",
        "          \n",
        "          inputs = inputs.to(device)\n",
        "          labels = labels.to(device)\n",
        "          \n",
        "          optimizer.zero_grad()\n",
        "          \n",
        "          with torch.set_grad_enabled(True):\n",
        "              predicts = model(inputs)\n",
        "              loss_value = loss(predicts, labels)\n",
        "              predicts_class = predicts.argmax(dim=1)\n",
        "              loss_value.backward()\n",
        "              optimizer.step()\n",
        "              \n",
        "          running_loss += loss_value.item()\n",
        "          running_acc += (predicts_class == labels.data).float().mean()\n",
        "            \n",
        "        epoch_loss = running_loss / len(train_dataloader)   \n",
        "        epoch_acc = running_acc / len(train_dataloader)\n",
        "    \n",
        "        train_history_loss.append(epoch_loss)\n",
        "        train_history_acc.append(epoch_acc)\n",
        "    \n",
        "        print('Loss: {:.4f} Acc: {:.4f}'.format(epoch_loss, epoch_acc), flush=True)\n",
        "    \n",
        "    del model\n",
        "    return train_history_loss, train_history_acc"
      ],
      "execution_count": 0,
      "outputs": []
    },
    {
      "cell_type": "code",
      "metadata": {
        "id": "rLUOMlmxFLh6",
        "colab_type": "code",
        "colab": {}
      },
      "source": [
        "def prepare_model(model):\n",
        "  # disable gradient for all convolution layers\n",
        "  for param in model.parameters():\n",
        "    param.requires_grad = False\n",
        "  # replace last layer\n",
        "  #model.fc = torch.nn.Linear(model.fc.in_features, 2)\n",
        "  model.fc = torch.nn.Sequential(\n",
        "    torch.nn.Dropout(0.15),\n",
        "    torch.nn.Linear(model.fc.in_features, 2)\n",
        "    )\n",
        "  model = model.to(device)\n",
        "  return model"
      ],
      "execution_count": 0,
      "outputs": []
    },
    {
      "cell_type": "code",
      "metadata": {
        "id": "zdiefbnP3S_8",
        "colab_type": "code",
        "outputId": "aa7c7a06-64f7-4f7b-b638-914475b822b7",
        "colab": {
          "base_uri": "https://localhost:8080/",
          "height": 1000
        }
      },
      "source": [
        "accuracies = {}\n",
        "losses = {}\n",
        "\n",
        "loss = torch.nn.CrossEntropyLoss()\n",
        "\n",
        "# adam \n",
        "model_1 = prepare_model(models.resnet101(pretrained=True))\n",
        "model_1.name = 'Resnet50 № 01'\n",
        "optimizer_1 = torch.optim.Adam(model_1.parameters(), lr=1.0e-3, amsgrad=True)\n",
        "scheduler_1 = torch.optim.lr_scheduler.StepLR(optimizer_1, step_size=10, gamma=0.1)\n",
        "losses[model_1.name], accuracies[model_1.name]  = train_model(model_1, loss, optimizer_1, scheduler_1, num_epochs=40);"
      ],
      "execution_count": 0,
      "outputs": [
        {
          "output_type": "stream",
          "text": [
            "Epoch 0/39:\n"
          ],
          "name": "stdout"
        },
        {
          "output_type": "stream",
          "text": [
            "\n",
            "  0%|          | 0/4 [00:00<?, ?it/s]\u001b[A\n",
            " 25%|██▌       | 1/4 [00:00<00:02,  1.11it/s]\u001b[A\n",
            " 50%|█████     | 2/4 [00:01<00:01,  1.46it/s]\u001b[A\n",
            " 75%|███████▌  | 3/4 [00:01<00:00,  1.87it/s]\u001b[A\n",
            "100%|██████████| 4/4 [00:01<00:00,  2.34it/s]\u001b[A\n",
            "\u001b[A"
          ],
          "name": "stderr"
        },
        {
          "output_type": "stream",
          "text": [
            "Loss: 0.6458 Acc: 0.5750\n",
            "Epoch 1/39:\n"
          ],
          "name": "stdout"
        },
        {
          "output_type": "stream",
          "text": [
            "\n",
            "  0%|          | 0/4 [00:00<?, ?it/s]\u001b[A\n",
            " 25%|██▌       | 1/4 [00:00<00:02,  1.23it/s]\u001b[A\n",
            " 50%|█████     | 2/4 [00:00<00:01,  1.61it/s]\u001b[A\n",
            " 75%|███████▌  | 3/4 [00:01<00:00,  2.06it/s]\u001b[A\n",
            "100%|██████████| 4/4 [00:01<00:00,  2.57it/s]\u001b[A\n",
            "\u001b[A"
          ],
          "name": "stderr"
        },
        {
          "output_type": "stream",
          "text": [
            "Loss: 0.7438 Acc: 0.5000\n",
            "Epoch 2/39:\n"
          ],
          "name": "stdout"
        },
        {
          "output_type": "stream",
          "text": [
            "\n",
            "  0%|          | 0/4 [00:00<?, ?it/s]\u001b[A\n",
            " 25%|██▌       | 1/4 [00:00<00:02,  1.18it/s]\u001b[A\n",
            " 50%|█████     | 2/4 [00:01<00:01,  1.55it/s]\u001b[A\n",
            " 75%|███████▌  | 3/4 [00:01<00:00,  2.00it/s]\u001b[A\n",
            "100%|██████████| 4/4 [00:01<00:00,  2.51it/s]\u001b[A\n",
            "\u001b[A"
          ],
          "name": "stderr"
        },
        {
          "output_type": "stream",
          "text": [
            "Loss: 0.6143 Acc: 0.6500\n",
            "Epoch 3/39:\n"
          ],
          "name": "stdout"
        },
        {
          "output_type": "stream",
          "text": [
            "\n",
            "  0%|          | 0/4 [00:00<?, ?it/s]\u001b[A\n",
            " 25%|██▌       | 1/4 [00:00<00:02,  1.17it/s]\u001b[A\n",
            " 50%|█████     | 2/4 [00:01<00:01,  1.54it/s]\u001b[A\n",
            " 75%|███████▌  | 3/4 [00:01<00:00,  1.99it/s]\u001b[A\n",
            "100%|██████████| 4/4 [00:01<00:00,  2.46it/s]\u001b[A\n",
            "\u001b[A"
          ],
          "name": "stderr"
        },
        {
          "output_type": "stream",
          "text": [
            "Loss: 0.5950 Acc: 0.7000\n",
            "Epoch 4/39:\n"
          ],
          "name": "stdout"
        },
        {
          "output_type": "stream",
          "text": [
            "\n",
            "  0%|          | 0/4 [00:00<?, ?it/s]\u001b[A\n",
            " 25%|██▌       | 1/4 [00:00<00:02,  1.17it/s]\u001b[A\n",
            " 50%|█████     | 2/4 [00:01<00:01,  1.56it/s]\u001b[A\n",
            " 75%|███████▌  | 3/4 [00:01<00:00,  1.99it/s]\u001b[A\n",
            "100%|██████████| 4/4 [00:01<00:00,  2.47it/s]\u001b[A\n",
            "\u001b[A"
          ],
          "name": "stderr"
        },
        {
          "output_type": "stream",
          "text": [
            "Loss: 0.5729 Acc: 0.7250\n",
            "Epoch 5/39:\n"
          ],
          "name": "stdout"
        },
        {
          "output_type": "stream",
          "text": [
            "\n",
            "  0%|          | 0/4 [00:00<?, ?it/s]\u001b[A\n",
            " 25%|██▌       | 1/4 [00:00<00:02,  1.21it/s]\u001b[A\n",
            " 50%|█████     | 2/4 [00:00<00:01,  1.58it/s]\u001b[A\n",
            " 75%|███████▌  | 3/4 [00:01<00:00,  2.03it/s]\u001b[A\n",
            "100%|██████████| 4/4 [00:01<00:00,  2.54it/s]\u001b[A\n",
            "\u001b[A"
          ],
          "name": "stderr"
        },
        {
          "output_type": "stream",
          "text": [
            "Loss: 0.4868 Acc: 0.7750\n",
            "Epoch 6/39:\n"
          ],
          "name": "stdout"
        },
        {
          "output_type": "stream",
          "text": [
            "\n",
            "  0%|          | 0/4 [00:00<?, ?it/s]\u001b[A\n",
            " 25%|██▌       | 1/4 [00:00<00:02,  1.20it/s]\u001b[A\n",
            " 50%|█████     | 2/4 [00:01<00:01,  1.58it/s]\u001b[A\n",
            " 75%|███████▌  | 3/4 [00:01<00:00,  2.04it/s]\u001b[A\n",
            "100%|██████████| 4/4 [00:01<00:00,  2.54it/s]\u001b[A\n",
            "\u001b[A"
          ],
          "name": "stderr"
        },
        {
          "output_type": "stream",
          "text": [
            "Loss: 0.5282 Acc: 0.7500\n",
            "Epoch 7/39:\n"
          ],
          "name": "stdout"
        },
        {
          "output_type": "stream",
          "text": [
            "\n",
            "  0%|          | 0/4 [00:00<?, ?it/s]\u001b[A\n",
            " 25%|██▌       | 1/4 [00:00<00:02,  1.19it/s]\u001b[A\n",
            " 50%|█████     | 2/4 [00:00<00:01,  1.58it/s]\u001b[A\n",
            " 75%|███████▌  | 3/4 [00:01<00:00,  2.03it/s]\u001b[A\n",
            "100%|██████████| 4/4 [00:01<00:00,  2.51it/s]\u001b[A\n",
            "\u001b[A"
          ],
          "name": "stderr"
        },
        {
          "output_type": "stream",
          "text": [
            "Loss: 0.4449 Acc: 0.8500\n",
            "Epoch 8/39:\n"
          ],
          "name": "stdout"
        },
        {
          "output_type": "stream",
          "text": [
            "\n",
            "  0%|          | 0/4 [00:00<?, ?it/s]\u001b[A\n",
            " 25%|██▌       | 1/4 [00:00<00:02,  1.25it/s]\u001b[A\n",
            " 50%|█████     | 2/4 [00:00<00:01,  1.64it/s]\u001b[A\n",
            " 75%|███████▌  | 3/4 [00:01<00:00,  2.08it/s]\u001b[A\n",
            "100%|██████████| 4/4 [00:01<00:00,  2.57it/s]\u001b[A\n",
            "\u001b[A"
          ],
          "name": "stderr"
        },
        {
          "output_type": "stream",
          "text": [
            "Loss: 0.4343 Acc: 0.9000\n",
            "Epoch 9/39:\n"
          ],
          "name": "stdout"
        },
        {
          "output_type": "stream",
          "text": [
            "\n",
            "  0%|          | 0/4 [00:00<?, ?it/s]\u001b[A\n",
            " 25%|██▌       | 1/4 [00:00<00:02,  1.21it/s]\u001b[A\n",
            " 50%|█████     | 2/4 [00:01<00:01,  1.58it/s]\u001b[A\n",
            " 75%|███████▌  | 3/4 [00:01<00:00,  2.02it/s]\u001b[A\n",
            "100%|██████████| 4/4 [00:01<00:00,  2.53it/s]\u001b[A\n",
            "\u001b[A"
          ],
          "name": "stderr"
        },
        {
          "output_type": "stream",
          "text": [
            "Loss: 0.4610 Acc: 0.7250\n",
            "Epoch 10/39:\n"
          ],
          "name": "stdout"
        },
        {
          "output_type": "stream",
          "text": [
            "\n",
            "  0%|          | 0/4 [00:00<?, ?it/s]\u001b[A\n",
            " 25%|██▌       | 1/4 [00:00<00:02,  1.21it/s]\u001b[A\n",
            " 50%|█████     | 2/4 [00:01<00:01,  1.59it/s]\u001b[A\n",
            " 75%|███████▌  | 3/4 [00:01<00:00,  2.05it/s]\u001b[A\n",
            "100%|██████████| 4/4 [00:01<00:00,  2.55it/s]\u001b[A\n",
            "\u001b[A"
          ],
          "name": "stderr"
        },
        {
          "output_type": "stream",
          "text": [
            "Loss: 0.4019 Acc: 0.8750\n",
            "Epoch 11/39:\n"
          ],
          "name": "stdout"
        },
        {
          "output_type": "stream",
          "text": [
            "\n",
            "  0%|          | 0/4 [00:00<?, ?it/s]\u001b[A\n",
            " 25%|██▌       | 1/4 [00:00<00:02,  1.19it/s]\u001b[A\n",
            " 50%|█████     | 2/4 [00:00<00:01,  1.58it/s]\u001b[A\n",
            " 75%|███████▌  | 3/4 [00:01<00:00,  2.04it/s]\u001b[A\n",
            "100%|██████████| 4/4 [00:01<00:00,  2.52it/s]\u001b[A\n",
            "\u001b[A"
          ],
          "name": "stderr"
        },
        {
          "output_type": "stream",
          "text": [
            "Loss: 0.4715 Acc: 0.7750\n",
            "Epoch 12/39:\n"
          ],
          "name": "stdout"
        },
        {
          "output_type": "stream",
          "text": [
            "\n",
            "  0%|          | 0/4 [00:00<?, ?it/s]\u001b[A\n",
            " 25%|██▌       | 1/4 [00:00<00:02,  1.21it/s]\u001b[A\n",
            " 50%|█████     | 2/4 [00:00<00:01,  1.60it/s]\u001b[A\n",
            " 75%|███████▌  | 3/4 [00:01<00:00,  2.04it/s]\u001b[A\n",
            "100%|██████████| 4/4 [00:01<00:00,  2.54it/s]\u001b[A\n",
            "\u001b[A"
          ],
          "name": "stderr"
        },
        {
          "output_type": "stream",
          "text": [
            "Loss: 0.4411 Acc: 0.8000\n",
            "Epoch 13/39:\n"
          ],
          "name": "stdout"
        },
        {
          "output_type": "stream",
          "text": [
            "\n",
            "  0%|          | 0/4 [00:00<?, ?it/s]\u001b[A\n",
            " 25%|██▌       | 1/4 [00:00<00:02,  1.35it/s]\u001b[A\n",
            " 50%|█████     | 2/4 [00:00<00:01,  1.75it/s]\u001b[A\n",
            " 75%|███████▌  | 3/4 [00:01<00:00,  2.21it/s]\u001b[A\n",
            "100%|██████████| 4/4 [00:01<00:00,  2.73it/s]\u001b[A\n",
            "\u001b[A"
          ],
          "name": "stderr"
        },
        {
          "output_type": "stream",
          "text": [
            "Loss: 0.3731 Acc: 0.8750\n",
            "Epoch 14/39:\n"
          ],
          "name": "stdout"
        },
        {
          "output_type": "stream",
          "text": [
            "\n",
            "  0%|          | 0/4 [00:00<?, ?it/s]\u001b[A\n",
            " 25%|██▌       | 1/4 [00:00<00:02,  1.20it/s]\u001b[A\n",
            " 50%|█████     | 2/4 [00:01<00:01,  1.58it/s]\u001b[A\n",
            " 75%|███████▌  | 3/4 [00:01<00:00,  2.04it/s]\u001b[A\n",
            "100%|██████████| 4/4 [00:01<00:00,  2.54it/s]\u001b[A\n",
            "\u001b[A"
          ],
          "name": "stderr"
        },
        {
          "output_type": "stream",
          "text": [
            "Loss: 0.4225 Acc: 0.8500\n",
            "Epoch 15/39:\n"
          ],
          "name": "stdout"
        },
        {
          "output_type": "stream",
          "text": [
            "\n",
            "  0%|          | 0/4 [00:00<?, ?it/s]\u001b[A\n",
            " 25%|██▌       | 1/4 [00:00<00:02,  1.19it/s]\u001b[A\n",
            " 50%|█████     | 2/4 [00:01<00:01,  1.57it/s]\u001b[A\n",
            " 75%|███████▌  | 3/4 [00:01<00:00,  2.03it/s]\u001b[A\n",
            "100%|██████████| 4/4 [00:01<00:00,  2.52it/s]\u001b[A\n",
            "\u001b[A"
          ],
          "name": "stderr"
        },
        {
          "output_type": "stream",
          "text": [
            "Loss: 0.3450 Acc: 0.8750\n",
            "Epoch 16/39:\n"
          ],
          "name": "stdout"
        },
        {
          "output_type": "stream",
          "text": [
            "\n",
            "  0%|          | 0/4 [00:00<?, ?it/s]\u001b[A\n",
            " 25%|██▌       | 1/4 [00:00<00:02,  1.20it/s]\u001b[A\n",
            " 50%|█████     | 2/4 [00:00<00:01,  1.59it/s]\u001b[A\n",
            " 75%|███████▌  | 3/4 [00:01<00:00,  2.03it/s]\u001b[A\n",
            "100%|██████████| 4/4 [00:01<00:00,  2.52it/s]\u001b[A\n",
            "\u001b[A"
          ],
          "name": "stderr"
        },
        {
          "output_type": "stream",
          "text": [
            "Loss: 0.4690 Acc: 0.7500\n",
            "Epoch 17/39:\n"
          ],
          "name": "stdout"
        },
        {
          "output_type": "stream",
          "text": [
            "\n",
            "  0%|          | 0/4 [00:00<?, ?it/s]\u001b[A\n",
            " 25%|██▌       | 1/4 [00:00<00:02,  1.22it/s]\u001b[A\n",
            " 50%|█████     | 2/4 [00:00<00:01,  1.60it/s]\u001b[A\n",
            " 75%|███████▌  | 3/4 [00:01<00:00,  2.04it/s]\u001b[A\n",
            "100%|██████████| 4/4 [00:01<00:00,  2.56it/s]\u001b[A\n",
            "\u001b[A"
          ],
          "name": "stderr"
        },
        {
          "output_type": "stream",
          "text": [
            "Loss: 0.3545 Acc: 0.9000\n",
            "Epoch 18/39:\n"
          ],
          "name": "stdout"
        },
        {
          "output_type": "stream",
          "text": [
            "\n",
            "  0%|          | 0/4 [00:00<?, ?it/s]\u001b[A\n",
            " 25%|██▌       | 1/4 [00:00<00:02,  1.23it/s]\u001b[A\n",
            " 50%|█████     | 2/4 [00:00<00:01,  1.60it/s]\u001b[A\n",
            " 75%|███████▌  | 3/4 [00:01<00:00,  2.07it/s]\u001b[A\n",
            "100%|██████████| 4/4 [00:01<00:00,  2.57it/s]\u001b[A\n",
            "\u001b[A"
          ],
          "name": "stderr"
        },
        {
          "output_type": "stream",
          "text": [
            "Loss: 0.4536 Acc: 0.8250\n",
            "Epoch 19/39:\n"
          ],
          "name": "stdout"
        },
        {
          "output_type": "stream",
          "text": [
            "\n",
            "  0%|          | 0/4 [00:00<?, ?it/s]\u001b[A\n",
            " 25%|██▌       | 1/4 [00:00<00:02,  1.19it/s]\u001b[A\n",
            " 50%|█████     | 2/4 [00:00<00:01,  1.57it/s]\u001b[A\n",
            " 75%|███████▌  | 3/4 [00:01<00:00,  2.02it/s]\u001b[A\n",
            "100%|██████████| 4/4 [00:01<00:00,  2.50it/s]\u001b[A\n",
            "\u001b[A"
          ],
          "name": "stderr"
        },
        {
          "output_type": "stream",
          "text": [
            "Loss: 0.3767 Acc: 0.9000\n",
            "Epoch 20/39:\n"
          ],
          "name": "stdout"
        },
        {
          "output_type": "stream",
          "text": [
            "\n",
            "  0%|          | 0/4 [00:00<?, ?it/s]\u001b[A\n",
            " 25%|██▌       | 1/4 [00:00<00:02,  1.19it/s]\u001b[A\n",
            " 50%|█████     | 2/4 [00:01<00:01,  1.57it/s]\u001b[A\n",
            " 75%|███████▌  | 3/4 [00:01<00:00,  2.01it/s]\u001b[A\n",
            "100%|██████████| 4/4 [00:01<00:00,  2.50it/s]\u001b[A\n",
            "\u001b[A"
          ],
          "name": "stderr"
        },
        {
          "output_type": "stream",
          "text": [
            "Loss: 0.4051 Acc: 0.8500\n",
            "Epoch 21/39:\n"
          ],
          "name": "stdout"
        },
        {
          "output_type": "stream",
          "text": [
            "\n",
            "  0%|          | 0/4 [00:00<?, ?it/s]\u001b[A\n",
            " 25%|██▌       | 1/4 [00:00<00:02,  1.22it/s]\u001b[A\n",
            " 50%|█████     | 2/4 [00:01<00:01,  1.60it/s]\u001b[A\n",
            " 75%|███████▌  | 3/4 [00:01<00:00,  2.04it/s]\u001b[A\n",
            "100%|██████████| 4/4 [00:01<00:00,  2.55it/s]\u001b[A\n",
            "\u001b[A"
          ],
          "name": "stderr"
        },
        {
          "output_type": "stream",
          "text": [
            "Loss: 0.3928 Acc: 0.8500\n",
            "Epoch 22/39:\n"
          ],
          "name": "stdout"
        },
        {
          "output_type": "stream",
          "text": [
            "\n",
            "  0%|          | 0/4 [00:00<?, ?it/s]\u001b[A\n",
            " 25%|██▌       | 1/4 [00:00<00:02,  1.16it/s]\u001b[A\n",
            " 50%|█████     | 2/4 [00:01<00:01,  1.53it/s]\u001b[A\n",
            " 75%|███████▌  | 3/4 [00:01<00:00,  1.98it/s]\u001b[A\n",
            "100%|██████████| 4/4 [00:01<00:00,  2.48it/s]\u001b[A\n",
            "\u001b[A"
          ],
          "name": "stderr"
        },
        {
          "output_type": "stream",
          "text": [
            "Loss: 0.3677 Acc: 0.8250\n",
            "Epoch 23/39:\n"
          ],
          "name": "stdout"
        },
        {
          "output_type": "stream",
          "text": [
            "\n",
            "  0%|          | 0/4 [00:00<?, ?it/s]\u001b[A\n",
            " 25%|██▌       | 1/4 [00:00<00:02,  1.40it/s]\u001b[A\n",
            " 50%|█████     | 2/4 [00:00<00:01,  1.82it/s]\u001b[A\n",
            " 75%|███████▌  | 3/4 [00:01<00:00,  2.32it/s]\u001b[A\n",
            "100%|██████████| 4/4 [00:01<00:00,  2.80it/s]\u001b[A\n",
            "\u001b[A"
          ],
          "name": "stderr"
        },
        {
          "output_type": "stream",
          "text": [
            "Loss: 0.3523 Acc: 0.8750\n",
            "Epoch 24/39:\n"
          ],
          "name": "stdout"
        },
        {
          "output_type": "stream",
          "text": [
            "\n",
            "  0%|          | 0/4 [00:00<?, ?it/s]\u001b[A\n",
            " 25%|██▌       | 1/4 [00:00<00:02,  1.19it/s]\u001b[A\n",
            " 50%|█████     | 2/4 [00:01<00:01,  1.57it/s]\u001b[A\n",
            " 75%|███████▌  | 3/4 [00:01<00:00,  2.01it/s]\u001b[A\n",
            "100%|██████████| 4/4 [00:01<00:00,  2.49it/s]\u001b[A\n",
            "\u001b[A"
          ],
          "name": "stderr"
        },
        {
          "output_type": "stream",
          "text": [
            "Loss: 0.3674 Acc: 0.9250\n",
            "Epoch 25/39:\n"
          ],
          "name": "stdout"
        },
        {
          "output_type": "stream",
          "text": [
            "\n",
            "  0%|          | 0/4 [00:00<?, ?it/s]\u001b[A\n",
            " 25%|██▌       | 1/4 [00:00<00:02,  1.22it/s]\u001b[A\n",
            " 50%|█████     | 2/4 [00:00<00:01,  1.60it/s]\u001b[A\n",
            " 75%|███████▌  | 3/4 [00:01<00:00,  2.05it/s]\u001b[A\n",
            "100%|██████████| 4/4 [00:01<00:00,  2.56it/s]\u001b[A\n",
            "\u001b[A"
          ],
          "name": "stderr"
        },
        {
          "output_type": "stream",
          "text": [
            "Loss: 0.4009 Acc: 0.8250\n",
            "Epoch 26/39:\n"
          ],
          "name": "stdout"
        },
        {
          "output_type": "stream",
          "text": [
            "\n",
            "  0%|          | 0/4 [00:00<?, ?it/s]\u001b[A\n",
            " 25%|██▌       | 1/4 [00:00<00:02,  1.18it/s]\u001b[A\n",
            " 50%|█████     | 2/4 [00:01<00:01,  1.55it/s]\u001b[A\n",
            " 75%|███████▌  | 3/4 [00:01<00:00,  2.01it/s]\u001b[A\n",
            "100%|██████████| 4/4 [00:01<00:00,  2.52it/s]\u001b[A\n",
            "\u001b[A"
          ],
          "name": "stderr"
        },
        {
          "output_type": "stream",
          "text": [
            "Loss: 0.4295 Acc: 0.8750\n",
            "Epoch 27/39:\n"
          ],
          "name": "stdout"
        },
        {
          "output_type": "stream",
          "text": [
            "\n",
            "  0%|          | 0/4 [00:00<?, ?it/s]\u001b[A\n",
            " 25%|██▌       | 1/4 [00:00<00:02,  1.18it/s]\u001b[A\n",
            " 50%|█████     | 2/4 [00:01<00:01,  1.55it/s]\u001b[A\n",
            " 75%|███████▌  | 3/4 [00:01<00:00,  2.00it/s]\u001b[A\n",
            "100%|██████████| 4/4 [00:01<00:00,  2.48it/s]\u001b[A\n",
            "\u001b[A"
          ],
          "name": "stderr"
        },
        {
          "output_type": "stream",
          "text": [
            "Loss: 0.3733 Acc: 0.9000\n",
            "Epoch 28/39:\n"
          ],
          "name": "stdout"
        },
        {
          "output_type": "stream",
          "text": [
            "\n",
            "  0%|          | 0/4 [00:00<?, ?it/s]\u001b[A\n",
            " 25%|██▌       | 1/4 [00:00<00:02,  1.18it/s]\u001b[A\n",
            " 50%|█████     | 2/4 [00:01<00:01,  1.55it/s]\u001b[A\n",
            " 75%|███████▌  | 3/4 [00:01<00:00,  1.99it/s]\u001b[A\n",
            "100%|██████████| 4/4 [00:01<00:00,  2.47it/s]\u001b[A\n",
            "\u001b[A"
          ],
          "name": "stderr"
        },
        {
          "output_type": "stream",
          "text": [
            "Loss: 0.3512 Acc: 0.9250\n",
            "Epoch 29/39:\n"
          ],
          "name": "stdout"
        },
        {
          "output_type": "stream",
          "text": [
            "\n",
            "  0%|          | 0/4 [00:00<?, ?it/s]\u001b[A\n",
            " 25%|██▌       | 1/4 [00:00<00:02,  1.20it/s]\u001b[A\n",
            " 50%|█████     | 2/4 [00:01<00:01,  1.58it/s]\u001b[A\n",
            " 75%|███████▌  | 3/4 [00:01<00:00,  2.02it/s]\u001b[A\n",
            "100%|██████████| 4/4 [00:01<00:00,  2.53it/s]\u001b[A\n",
            "\u001b[A"
          ],
          "name": "stderr"
        },
        {
          "output_type": "stream",
          "text": [
            "Loss: 0.3856 Acc: 0.8750\n",
            "Epoch 30/39:\n"
          ],
          "name": "stdout"
        },
        {
          "output_type": "stream",
          "text": [
            "\n",
            "  0%|          | 0/4 [00:00<?, ?it/s]\u001b[A\n",
            " 25%|██▌       | 1/4 [00:00<00:02,  1.19it/s]\u001b[A\n",
            " 50%|█████     | 2/4 [00:01<00:01,  1.56it/s]\u001b[A\n",
            " 75%|███████▌  | 3/4 [00:01<00:00,  2.02it/s]\u001b[A\n",
            "100%|██████████| 4/4 [00:01<00:00,  2.53it/s]\u001b[A\n",
            "\u001b[A"
          ],
          "name": "stderr"
        },
        {
          "output_type": "stream",
          "text": [
            "Loss: 0.4461 Acc: 0.7750\n",
            "Epoch 31/39:\n"
          ],
          "name": "stdout"
        },
        {
          "output_type": "stream",
          "text": [
            "\n",
            "  0%|          | 0/4 [00:00<?, ?it/s]\u001b[A\n",
            " 25%|██▌       | 1/4 [00:00<00:02,  1.14it/s]\u001b[A\n",
            " 50%|█████     | 2/4 [00:01<00:01,  1.51it/s]\u001b[A\n",
            " 75%|███████▌  | 3/4 [00:01<00:00,  1.96it/s]\u001b[A\n",
            "100%|██████████| 4/4 [00:01<00:00,  2.43it/s]\u001b[A\n",
            "\u001b[A"
          ],
          "name": "stderr"
        },
        {
          "output_type": "stream",
          "text": [
            "Loss: 0.3753 Acc: 0.8500\n",
            "Epoch 32/39:\n"
          ],
          "name": "stdout"
        },
        {
          "output_type": "stream",
          "text": [
            "\n",
            "  0%|          | 0/4 [00:00<?, ?it/s]\u001b[A\n",
            " 25%|██▌       | 1/4 [00:00<00:02,  1.23it/s]\u001b[A\n",
            " 50%|█████     | 2/4 [00:00<00:01,  1.62it/s]\u001b[A\n",
            " 75%|███████▌  | 3/4 [00:01<00:00,  2.07it/s]\u001b[A\n",
            "100%|██████████| 4/4 [00:01<00:00,  2.55it/s]\u001b[A\n",
            "\u001b[A"
          ],
          "name": "stderr"
        },
        {
          "output_type": "stream",
          "text": [
            "Loss: 0.4145 Acc: 0.8750\n",
            "Epoch 33/39:\n"
          ],
          "name": "stdout"
        },
        {
          "output_type": "stream",
          "text": [
            "\n",
            "  0%|          | 0/4 [00:00<?, ?it/s]\u001b[A\n",
            " 25%|██▌       | 1/4 [00:00<00:02,  1.20it/s]\u001b[A\n",
            " 50%|█████     | 2/4 [00:01<00:01,  1.58it/s]\u001b[A\n",
            " 75%|███████▌  | 3/4 [00:01<00:00,  2.02it/s]\u001b[A\n",
            "100%|██████████| 4/4 [00:01<00:00,  2.54it/s]\u001b[A\n",
            "\u001b[A"
          ],
          "name": "stderr"
        },
        {
          "output_type": "stream",
          "text": [
            "Loss: 0.3291 Acc: 0.9500\n",
            "Epoch 34/39:\n"
          ],
          "name": "stdout"
        },
        {
          "output_type": "stream",
          "text": [
            "\n",
            "  0%|          | 0/4 [00:00<?, ?it/s]\u001b[A\n",
            " 25%|██▌       | 1/4 [00:00<00:02,  1.19it/s]\u001b[A\n",
            " 50%|█████     | 2/4 [00:01<00:01,  1.56it/s]\u001b[A\n",
            " 75%|███████▌  | 3/4 [00:01<00:00,  2.02it/s]\u001b[A\n",
            "100%|██████████| 4/4 [00:01<00:00,  2.52it/s]\u001b[A\n",
            "\u001b[A"
          ],
          "name": "stderr"
        },
        {
          "output_type": "stream",
          "text": [
            "Loss: 0.3458 Acc: 0.9500\n",
            "Epoch 35/39:\n"
          ],
          "name": "stdout"
        },
        {
          "output_type": "stream",
          "text": [
            "\n",
            "  0%|          | 0/4 [00:00<?, ?it/s]\u001b[A\n",
            " 25%|██▌       | 1/4 [00:00<00:02,  1.19it/s]\u001b[A\n",
            " 50%|█████     | 2/4 [00:01<00:01,  1.57it/s]\u001b[A\n",
            " 75%|███████▌  | 3/4 [00:01<00:00,  2.02it/s]\u001b[A\n",
            "100%|██████████| 4/4 [00:01<00:00,  2.50it/s]\u001b[A\n",
            "\u001b[A"
          ],
          "name": "stderr"
        },
        {
          "output_type": "stream",
          "text": [
            "Loss: 0.4402 Acc: 0.7250\n",
            "Epoch 36/39:\n"
          ],
          "name": "stdout"
        },
        {
          "output_type": "stream",
          "text": [
            "\n",
            "  0%|          | 0/4 [00:00<?, ?it/s]\u001b[A\n",
            " 25%|██▌       | 1/4 [00:00<00:02,  1.23it/s]\u001b[A\n",
            " 50%|█████     | 2/4 [00:00<00:01,  1.62it/s]\u001b[A\n",
            " 75%|███████▌  | 3/4 [00:01<00:00,  2.06it/s]\u001b[A\n",
            "100%|██████████| 4/4 [00:01<00:00,  2.54it/s]\u001b[A\n",
            "\u001b[A"
          ],
          "name": "stderr"
        },
        {
          "output_type": "stream",
          "text": [
            "Loss: 0.4463 Acc: 0.8500\n",
            "Epoch 37/39:\n"
          ],
          "name": "stdout"
        },
        {
          "output_type": "stream",
          "text": [
            "\n",
            "  0%|          | 0/4 [00:00<?, ?it/s]\u001b[A\n",
            " 25%|██▌       | 1/4 [00:00<00:02,  1.21it/s]\u001b[A\n",
            " 50%|█████     | 2/4 [00:00<00:01,  1.59it/s]\u001b[A\n",
            " 75%|███████▌  | 3/4 [00:01<00:00,  2.03it/s]\u001b[A\n",
            "100%|██████████| 4/4 [00:01<00:00,  2.54it/s]\u001b[A\n",
            "\u001b[A"
          ],
          "name": "stderr"
        },
        {
          "output_type": "stream",
          "text": [
            "Loss: 0.3543 Acc: 0.9000\n",
            "Epoch 38/39:\n"
          ],
          "name": "stdout"
        },
        {
          "output_type": "stream",
          "text": [
            "\n",
            "  0%|          | 0/4 [00:00<?, ?it/s]\u001b[A\n",
            " 25%|██▌       | 1/4 [00:00<00:02,  1.16it/s]\u001b[A\n",
            " 50%|█████     | 2/4 [00:01<00:01,  1.53it/s]\u001b[A\n",
            " 75%|███████▌  | 3/4 [00:01<00:00,  1.98it/s]\u001b[A\n",
            "100%|██████████| 4/4 [00:01<00:00,  2.48it/s]\u001b[A\n",
            "\u001b[A"
          ],
          "name": "stderr"
        },
        {
          "output_type": "stream",
          "text": [
            "Loss: 0.3779 Acc: 0.8250\n",
            "Epoch 39/39:\n"
          ],
          "name": "stdout"
        },
        {
          "output_type": "stream",
          "text": [
            "\n",
            "  0%|          | 0/4 [00:00<?, ?it/s]\u001b[A\n",
            " 25%|██▌       | 1/4 [00:00<00:02,  1.21it/s]\u001b[A\n",
            " 50%|█████     | 2/4 [00:00<00:01,  1.60it/s]\u001b[A\n",
            " 75%|███████▌  | 3/4 [00:01<00:00,  2.06it/s]\u001b[A\n",
            "100%|██████████| 4/4 [00:01<00:00,  2.56it/s]\u001b[A\n",
            "\u001b[A"
          ],
          "name": "stderr"
        },
        {
          "output_type": "stream",
          "text": [
            "Loss: 0.4969 Acc: 0.7500\n"
          ],
          "name": "stdout"
        }
      ]
    },
    {
      "cell_type": "code",
      "metadata": {
        "id": "BFvLjZQPKtkO",
        "colab_type": "code",
        "outputId": "3b066e48-cb63-4a6f-a9db-4833e7d5267e",
        "colab": {
          "base_uri": "https://localhost:8080/",
          "height": 281
        }
      },
      "source": [
        "for net_name in ['Resnet50 № 01']:\n",
        "  plt.plot(accuracies[net_name], label=net_name)\n",
        "plt.legend()\n",
        "plt.title('train Accuracy');"
      ],
      "execution_count": 0,
      "outputs": [
        {
          "output_type": "display_data",
          "data": {
            "image/png": "[encoded data removed]",
            "text/plain": [
              "<Figure size 432x288 with 1 Axes>"
            ]
          },
          "metadata": {
            "tags": []
          }
        }
      ]
    },
    {
      "cell_type": "code",
      "metadata": {
        "id": "lQa622xdLm7b",
        "colab_type": "code",
        "outputId": "c88d5942-db3d-4d72-bb08-4bcb61eda19e",
        "colab": {
          "base_uri": "https://localhost:8080/",
          "height": 281
        }
      },
      "source": [
        "for net_name in ['Resnet50 № 01']:\n",
        "  plt.plot(losses[net_name], label=net_name)\n",
        "plt.legend()\n",
        "plt.title('train Loss');"
      ],
      "execution_count": 0,
      "outputs": [
        {
          "output_type": "display_data",
          "data": {
            "image/png": "[encoded data removed]",
            "text/plain": [
              "<Figure size 432x288 with 1 Axes>"
            ]
          },
          "metadata": {
            "tags": []
          }
        }
      ]
    },
    {
      "cell_type": "code",
      "metadata": {
        "id": "xkEeIR1-Fzau",
        "colab_type": "code",
        "outputId": "d771bebf-6aa3-4a00-b949-af538b728518",
        "colab": {
          "base_uri": "https://localhost:8080/",
          "height": 35
        }
      },
      "source": [
        "test_dir = 'test'\n",
        "shutil.copytree(os.path.join(data_root, 'test'), os.path.join(test_dir, 'unknown'))"
      ],
      "execution_count": 0,
      "outputs": [
        {
          "output_type": "execute_result",
          "data": {
            "text/plain": [
              "'test/unknown'"
            ]
          },
          "metadata": {
            "tags": []
          },
          "execution_count": 293
        }
      ]
    },
    {
      "cell_type": "code",
      "metadata": {
        "id": "4CD7QYU7XbHJ",
        "colab_type": "code",
        "colab": {}
      },
      "source": [
        "val_transforms = transforms.Compose([\n",
        "    transforms.Resize((224, 224)),\n",
        "    transforms.ToTensor(),\n",
        "    transforms.Normalize([0.485, 0.456, 0.406], [0.229, 0.224, 0.225])\n",
        "])\n",
        "\n",
        "class ImageFolderWithPaths(torchvision.datasets.ImageFolder):\n",
        "    def __getitem__(self, index):\n",
        "        original_tuple = super(ImageFolderWithPaths, self).__getitem__(index)\n",
        "        path = self.imgs[index][0]\n",
        "        tuple_with_path = (original_tuple + (path,))\n",
        "        return tuple_with_path\n",
        "    \n",
        "test_dataset = ImageFolderWithPaths(test_dir, val_transforms)\n",
        "\n",
        "test_dataloader = torch.utils.data.DataLoader(\n",
        "    test_dataset, batch_size=batch_size, shuffle=False, num_workers=batch_size)"
      ],
      "execution_count": 0,
      "outputs": []
    },
    {
      "cell_type": "code",
      "metadata": {
        "id": "YUbjmPTIX3Fb",
        "colab_type": "code",
        "outputId": "4f3b6600-31e6-4dc2-d499-e65ff12196fc",
        "colab": {
          "base_uri": "https://localhost:8080/",
          "height": 1000
        }
      },
      "source": [
        "model_1.eval()\n",
        "\n",
        "test_predictions = []\n",
        "test_img_paths = []\n",
        "\n",
        "test_acc = 0.\n",
        "\n",
        "for inputs, labels, paths in tqdm(test_dataloader):\n",
        "    inputs = inputs.to(device)\n",
        "    labels = labels.to(device)\n",
        "    with torch.set_grad_enabled(False):\n",
        "        preds = model_1(inputs)\n",
        "        predicts_class = preds.argmax(dim=1)\n",
        "    test_predictions.append(\n",
        "        torch.nn.functional.softmax(preds, dim=1)[:,1].data.cpu().numpy())\n",
        "    test_img_paths.extend(paths)\n",
        "    test_acc += (predicts_class == labels.data).float().mean()\n",
        "\n",
        "test_acc = test_acc / len(test_dataloader)\n",
        "test_predictions = np.concatenate(test_predictions)\n",
        "\n",
        "print('Test accuracy: {0}'.format(test_acc))"
      ],
      "execution_count": 0,
      "outputs": [
        {
          "output_type": "stream",
          "text": [
            "\n",
            "  0%|          | 0/75 [00:00<?, ?it/s]\u001b[A\n",
            "  1%|▏         | 1/75 [00:01<01:25,  1.16s/it]\u001b[A\n",
            "  3%|▎         | 2/75 [00:01<01:04,  1.13it/s]\u001b[A\n",
            "  4%|▍         | 3/75 [00:01<00:48,  1.50it/s]\u001b[A\n",
            "  5%|▌         | 4/75 [00:01<00:36,  1.94it/s]\u001b[A\n",
            "  7%|▋         | 5/75 [00:01<00:28,  2.45it/s]\u001b[A\n",
            "  8%|▊         | 6/75 [00:02<00:23,  2.98it/s]\u001b[A\n",
            "  9%|▉         | 7/75 [00:02<00:19,  3.52it/s]\u001b[A\n",
            " 11%|█         | 8/75 [00:02<00:16,  4.05it/s]\u001b[A\n",
            " 12%|█▏        | 9/75 [00:02<00:14,  4.51it/s]\u001b[A\n",
            " 13%|█▎        | 10/75 [00:02<00:13,  4.88it/s]\u001b[A\n",
            " 15%|█▍        | 11/75 [00:02<00:12,  5.17it/s]\u001b[A\n",
            " 16%|█▌        | 12/75 [00:03<00:11,  5.49it/s]\u001b[A\n",
            " 17%|█▋        | 13/75 [00:03<00:10,  5.69it/s]\u001b[A\n",
            " 19%|█▊        | 14/75 [00:03<00:10,  5.84it/s]\u001b[A\n",
            " 20%|██        | 15/75 [00:03<00:10,  5.89it/s]\u001b[A\n",
            " 21%|██▏       | 16/75 [00:03<00:09,  5.92it/s]\u001b[A\n",
            " 23%|██▎       | 17/75 [00:03<00:09,  6.07it/s]\u001b[A\n",
            " 24%|██▍       | 18/75 [00:03<00:09,  6.16it/s]\u001b[A\n",
            " 25%|██▌       | 19/75 [00:04<00:09,  6.21it/s]\u001b[A\n",
            " 27%|██▋       | 20/75 [00:04<00:08,  6.24it/s]\u001b[A\n",
            " 28%|██▊       | 21/75 [00:04<00:08,  6.22it/s]\u001b[A\n",
            " 29%|██▉       | 22/75 [00:04<00:08,  6.22it/s]\u001b[A\n",
            " 31%|███       | 23/75 [00:04<00:08,  6.20it/s]\u001b[A\n",
            " 32%|███▏      | 24/75 [00:04<00:08,  6.21it/s]\u001b[A\n",
            " 33%|███▎      | 25/75 [00:05<00:08,  6.20it/s]\u001b[A\n",
            " 35%|███▍      | 26/75 [00:05<00:08,  6.12it/s]\u001b[A\n",
            " 36%|███▌      | 27/75 [00:05<00:07,  6.14it/s]\u001b[A\n",
            " 37%|███▋      | 28/75 [00:05<00:07,  6.19it/s]\u001b[A\n",
            " 39%|███▊      | 29/75 [00:05<00:07,  6.25it/s]\u001b[A\n",
            " 40%|████      | 30/75 [00:05<00:07,  6.25it/s]\u001b[A\n",
            " 41%|████▏     | 31/75 [00:06<00:07,  6.21it/s]\u001b[A\n",
            " 43%|████▎     | 32/75 [00:06<00:06,  6.23it/s]\u001b[A\n",
            " 44%|████▍     | 33/75 [00:06<00:06,  6.26it/s]\u001b[A\n",
            " 45%|████▌     | 34/75 [00:06<00:06,  6.25it/s]\u001b[A\n",
            " 47%|████▋     | 35/75 [00:06<00:06,  6.25it/s]\u001b[A\n",
            " 48%|████▊     | 36/75 [00:06<00:06,  6.20it/s]\u001b[A\n",
            " 49%|████▉     | 37/75 [00:07<00:06,  6.21it/s]\u001b[A\n",
            " 51%|█████     | 38/75 [00:07<00:05,  6.23it/s]\u001b[A\n",
            " 52%|█████▏    | 39/75 [00:07<00:05,  6.23it/s]\u001b[A\n",
            " 53%|█████▎    | 40/75 [00:07<00:05,  6.24it/s]\u001b[A\n",
            " 55%|█████▍    | 41/75 [00:07<00:05,  6.23it/s]\u001b[A\n",
            " 56%|█████▌    | 42/75 [00:07<00:05,  6.25it/s]\u001b[A\n",
            " 57%|█████▋    | 43/75 [00:08<00:05,  6.25it/s]\u001b[A\n",
            " 59%|█████▊    | 44/75 [00:08<00:04,  6.25it/s]\u001b[A\n",
            " 60%|██████    | 45/75 [00:08<00:04,  6.25it/s]\u001b[A\n",
            " 61%|██████▏   | 46/75 [00:08<00:04,  6.26it/s]\u001b[A\n",
            " 63%|██████▎   | 47/75 [00:08<00:04,  6.29it/s]\u001b[A\n",
            " 64%|██████▍   | 48/75 [00:08<00:04,  6.28it/s]\u001b[A\n",
            " 65%|██████▌   | 49/75 [00:08<00:04,  6.28it/s]\u001b[A\n",
            " 67%|██████▋   | 50/75 [00:09<00:03,  6.30it/s]\u001b[A\n",
            " 68%|██████▊   | 51/75 [00:09<00:03,  6.32it/s]\u001b[A\n",
            " 69%|██████▉   | 52/75 [00:09<00:03,  6.32it/s]\u001b[A\n",
            " 71%|███████   | 53/75 [00:09<00:03,  6.32it/s]\u001b[A\n",
            " 72%|███████▏  | 54/75 [00:09<00:03,  6.31it/s]\u001b[A\n",
            " 73%|███████▎  | 55/75 [00:09<00:03,  6.32it/s]\u001b[A\n",
            " 75%|███████▍  | 56/75 [00:10<00:03,  6.29it/s]\u001b[A\n",
            " 76%|███████▌  | 57/75 [00:10<00:02,  6.25it/s]\u001b[A\n",
            " 77%|███████▋  | 58/75 [00:10<00:02,  6.23it/s]\u001b[A\n",
            " 79%|███████▊  | 59/75 [00:10<00:02,  6.22it/s]\u001b[A\n",
            " 80%|████████  | 60/75 [00:10<00:02,  6.22it/s]\u001b[A\n",
            " 81%|████████▏ | 61/75 [00:10<00:02,  6.24it/s]\u001b[A\n",
            " 83%|████████▎ | 62/75 [00:11<00:02,  6.27it/s]\u001b[A\n",
            " 84%|████████▍ | 63/75 [00:11<00:01,  6.30it/s]\u001b[A\n",
            " 85%|████████▌ | 64/75 [00:11<00:01,  6.28it/s]\u001b[A\n",
            " 87%|████████▋ | 65/75 [00:11<00:01,  6.29it/s]\u001b[A\n",
            " 88%|████████▊ | 66/75 [00:11<00:01,  6.30it/s]\u001b[A\n",
            " 89%|████████▉ | 67/75 [00:11<00:01,  6.28it/s]\u001b[A\n",
            " 91%|█████████ | 68/75 [00:11<00:01,  6.31it/s]\u001b[A\n",
            " 92%|█████████▏| 69/75 [00:12<00:00,  6.34it/s]\u001b[A\n",
            " 93%|█████████▎| 70/75 [00:12<00:00,  6.34it/s]\u001b[A\n",
            " 95%|█████████▍| 71/75 [00:12<00:00,  6.33it/s]\u001b[A\n",
            " 96%|█████████▌| 72/75 [00:12<00:00,  6.31it/s]\u001b[A\n",
            " 97%|█████████▋| 73/75 [00:12<00:00,  6.31it/s]\u001b[A\n",
            " 99%|█████████▊| 74/75 [00:12<00:00,  6.32it/s]\u001b[A\n",
            "100%|██████████| 75/75 [00:13<00:00,  5.68it/s]\u001b[A"
          ],
          "name": "stderr"
        },
        {
          "output_type": "stream",
          "text": [
            "Test accuracy: 0.27000007033348083\n"
          ],
          "name": "stdout"
        }
      ]
    },
    {
      "cell_type": "code",
      "metadata": {
        "id": "DUz0AmAUYDkC",
        "colab_type": "code",
        "colab": {}
      },
      "source": [
        "submission_df = pd.DataFrame.from_dict({'id': test_img_paths, 'label': test_predictions})"
      ],
      "execution_count": 0,
      "outputs": []
    },
    {
      "cell_type": "code",
      "metadata": {
        "id": "LvtiatpYYIbJ",
        "colab_type": "code",
        "outputId": "e786df60-138b-4c60-8279-4c8038481c26",
        "colab": {
          "base_uri": "https://localhost:8080/",
          "height": 258
        }
      },
      "source": [
        "submission_df['label'] = submission_df['label'].map(lambda pred: 'dirty' if pred > 0.5 else 'cleaned')\n",
        "submission_df['id'] = submission_df['id'].str.replace('test/unknown/', '')\n",
        "submission_df['id'] = submission_df['id'].str.replace('.jpg', '')\n",
        "submission_df.set_index('id', inplace=True)\n",
        "submission_df.head(n=6)"
      ],
      "execution_count": 0,
      "outputs": [
        {
          "output_type": "execute_result",
          "data": {
            "text/html": [
              "<div>\n",
              "<style scoped>\n",
              "    .dataframe tbody tr th:only-of-type {\n",
              "        vertical-align: middle;\n",
              "    }\n",
              "\n",
              "    .dataframe tbody tr th {\n",
              "        vertical-align: top;\n",
              "    }\n",
              "\n",
              "    .dataframe thead th {\n",
              "        text-align: right;\n",
              "    }\n",
              "</style>\n",
              "<table border=\"1\" class=\"dataframe\">\n",
              "  <thead>\n",
              "    <tr style=\"text-align: right;\">\n",
              "      <th></th>\n",
              "      <th>label</th>\n",
              "    </tr>\n",
              "    <tr>\n",
              "      <th>id</th>\n",
              "      <th></th>\n",
              "    </tr>\n",
              "  </thead>\n",
              "  <tbody>\n",
              "    <tr>\n",
              "      <th>0000</th>\n",
              "      <td>dirty</td>\n",
              "    </tr>\n",
              "    <tr>\n",
              "      <th>0001</th>\n",
              "      <td>dirty</td>\n",
              "    </tr>\n",
              "    <tr>\n",
              "      <th>0002</th>\n",
              "      <td>dirty</td>\n",
              "    </tr>\n",
              "    <tr>\n",
              "      <th>0003</th>\n",
              "      <td>dirty</td>\n",
              "    </tr>\n",
              "    <tr>\n",
              "      <th>0004</th>\n",
              "      <td>dirty</td>\n",
              "    </tr>\n",
              "    <tr>\n",
              "      <th>0005</th>\n",
              "      <td>dirty</td>\n",
              "    </tr>\n",
              "  </tbody>\n",
              "</table>\n",
              "</div>"
            ],
            "text/plain": [
              "      label\n",
              "id         \n",
              "0000  dirty\n",
              "0001  dirty\n",
              "0002  dirty\n",
              "0003  dirty\n",
              "0004  dirty\n",
              "0005  dirty"
            ]
          },
          "metadata": {
            "tags": []
          },
          "execution_count": 297
        }
      ]
    },
    {
      "cell_type": "code",
      "metadata": {
        "id": "rWejRwdTYLIc",
        "colab_type": "code",
        "colab": {}
      },
      "source": [
        "submission_df.to_csv('submission.csv')"
      ],
      "execution_count": 0,
      "outputs": []
    },
    {
      "cell_type": "code",
      "metadata": {
        "id": "MBpCwVUDT4ni",
        "colab_type": "code",
        "colab": {}
      },
      "source": [
        "#!rm -rf test submission.csv"
      ],
      "execution_count": 0,
      "outputs": []
    }
  ]
}